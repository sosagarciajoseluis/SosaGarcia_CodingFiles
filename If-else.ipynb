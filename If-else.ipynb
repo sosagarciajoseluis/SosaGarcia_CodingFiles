{
 "cells": [
  {
   "cell_type": "markdown",
   "metadata": {},
   "source": [
    "# If-else"
   ]
  },
  {
   "cell_type": "code",
   "execution_count": 1,
   "metadata": {},
   "outputs": [
    {
     "name": "stdout",
     "output_type": "stream",
     "text": [
      "COMPARADOR DE AÑOS\n",
      "¿En qué año estamos?: 2019\n",
      "Escriba un año cualquiera: 1999\n",
      "Desde el año 1999 han pasado 20 años.\n"
     ]
    }
   ],
   "source": [
    "def main():\n",
    "    print(\"COMPARADOR DE AÑOS\")\n",
    "    fecha_1 = int(input(\"¿En qué año estamos?: \"))\n",
    "    fecha_2 = int(input(\"Escriba un año cualquiera: \"))\n",
    "    diferencia = fecha_1 - fecha_2\n",
    "\n",
    "    if diferencia == 1:\n",
    "        print(f\"Desde el año {fecha_2} ha pasado 1 año.\")\n",
    "    elif diferencia > 1:\n",
    "        print(f\"Desde el año {fecha_2} han pasado {diferencia} años.\")\n",
    "    elif diferencia == -1:\n",
    "        print(f\"Para llegar al año {fecha_2} falta 1 año.\")\n",
    "    elif diferencia < -1:\n",
    "        print(f\"Para llegar al año {fecha_2} faltan {-diferencia} años.\")\n",
    "    else:\n",
    "        print(\"¡Son el mismo año!\")\n",
    "\n",
    "\n",
    "if __name__ == \"__main__\":\n",
    "    main()"
   ]
  },
  {
   "cell_type": "code",
   "execution_count": null,
   "metadata": {},
   "outputs": [],
   "source": []
  }
 ],
 "metadata": {
  "kernelspec": {
   "display_name": "Python 3",
   "language": "python",
   "name": "python3"
  },
  "language_info": {
   "codemirror_mode": {
    "name": "ipython",
    "version": 3
   },
   "file_extension": ".py",
   "mimetype": "text/x-python",
   "name": "python",
   "nbconvert_exporter": "python",
   "pygments_lexer": "ipython3",
   "version": "3.7.4"
  }
 },
 "nbformat": 4,
 "nbformat_minor": 2
}
