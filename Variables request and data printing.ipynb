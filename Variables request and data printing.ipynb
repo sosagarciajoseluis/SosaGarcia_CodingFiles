{
 "cells": [
  {
   "cell_type": "code",
   "execution_count": 14,
   "metadata": {},
   "outputs": [
    {
     "name": "stdout",
     "output_type": "stream",
     "text": [
      "How old are you?15\n",
      "34\n",
      "22\n",
      "The sample mean is:\n",
      "23.666666666666668\n"
     ]
    }
   ],
   "source": [
    "a= int (input (\"How old are you?\"))\n",
    "b = int (input())\n",
    "c = int (input())\n",
    "print (\"The sample mean is:\")\n",
    "mean = (a + b + c) / 3\n",
    "print (f\"{mean}\")\n",
    "\n"
   ]
  },
  {
   "cell_type": "markdown",
   "metadata": {},
   "source": [
    "In this code I only used the example shown in class and added 3 more values (in this case a and b)\n",
    "and calculated the sample mean of the data. I maked use of variables and data printing"
   ]
  }
 ],
 "metadata": {
  "kernelspec": {
   "display_name": "Python 3",
   "language": "python",
   "name": "python3"
  },
  "language_info": {
   "codemirror_mode": {
    "name": "ipython",
    "version": 3
   },
   "file_extension": ".py",
   "mimetype": "text/x-python",
   "name": "python",
   "nbconvert_exporter": "python",
   "pygments_lexer": "ipython3",
   "version": "3.7.4"
  }
 },
 "nbformat": 4,
 "nbformat_minor": 2
}
